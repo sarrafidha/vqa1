{
 "cells": [
  {
   "cell_type": "code",
   "execution_count": 1,
   "metadata": {},
   "outputs": [],
   "source": [
    "import json"
   ]
  },
  {
   "cell_type": "code",
   "execution_count": 2,
   "metadata": {},
   "outputs": [],
   "source": [
    "def read_jsonl(file_path):\n",
    "    data = []\n",
    "    with open(file_path, 'r', encoding='utf-8') as f:\n",
    "        for line in f:\n",
    "            # 解析每一行的 JSON 对象\n",
    "            json_obj = json.loads(line.strip())\n",
    "            data.append(json_obj)\n",
    "    return data"
   ]
  },
  {
   "cell_type": "code",
   "execution_count": 4,
   "metadata": {},
   "outputs": [],
   "source": [
    "rslt_path = \"../experiments/changechat-lora-gpt-114k/results/ans_20240810_131818_conv.jsonl\"\n",
    "results = read_jsonl(rslt_path)\n",
    "for row in results:\n",
    "    row['answer'] = row['answer'].split(\"ASSISTANT:\")[-1].replace(\"</s>\", \"\").strip()"
   ]
  },
  {
   "cell_type": "code",
   "execution_count": 5,
   "metadata": {},
   "outputs": [],
   "source": [
    "# JSON Lines 文件路径\n",
    "jsonl_file_path = '../experiments/changechat-lora-gpt-114k/results/ans_20240810_131818.jsonl'\n",
    "\n",
    "# 将列表写入 JSON Lines 文件\n",
    "with open(jsonl_file_path, 'w', encoding='utf-8') as file:\n",
    "    for item in results:\n",
    "        json_line = json.dumps(item)\n",
    "        file.write(json_line + '\\n')"
   ]
  }
 ],
 "metadata": {
  "kernelspec": {
   "display_name": "geochat",
   "language": "python",
   "name": "python3"
  },
  "language_info": {
   "codemirror_mode": {
    "name": "ipython",
    "version": 3
   },
   "file_extension": ".py",
   "mimetype": "text/x-python",
   "name": "python",
   "nbconvert_exporter": "python",
   "pygments_lexer": "ipython3",
   "version": "3.10.14"
  }
 },
 "nbformat": 4,
 "nbformat_minor": 2
}
