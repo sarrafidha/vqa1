{
 "cells": [
  {
   "cell_type": "code",
   "execution_count": 2,
   "metadata": {},
   "outputs": [],
   "source": [
    "import os, json, re, ast\n",
    "from openai import OpenAI\n",
    "import concurrent.futures\n",
    "import threading\n",
    "from time import sleep\n",
    "# set the key\n",
    "API_SECRET_KEY = \"sk-zk2277dd97db0e3d8a2600807992f389c5365b8fb3005750\"\n",
    "BASE_URL = \"https://flag.smarttrot.com/v1/\"\n",
    "TYPE = \"count\""
   ]
  },
  {
   "cell_type": "code",
   "execution_count": 3,
   "metadata": {},
   "outputs": [],
   "source": [
    "def read_file(file_path):\n",
    "    with open(file_path, 'r') as file:\n",
    "        content = file.read()\n",
    "    return content\n",
    "\n",
    "def write_to_file(file_path, content):\n",
    "    with open(file_path, \"w\") as f:\n",
    "        f.write(content)\n",
    "\n",
    "system_message = read_file(os.path.join(TYPE, \"system_message.txt\"))\n",
    "example_000_caps = read_file(os.path.join(TYPE, \"000_caps.txt\"))\n",
    "example_000_conv = read_file(os.path.join(TYPE, \"000_conv.txt\"))\n",
    "example_001_caps = read_file(os.path.join(TYPE, \"001_caps.txt\"))\n",
    "example_001_conv = read_file(os.path.join(TYPE, \"001_conv.txt\"))\n",
    "result_path = os.path.join(TYPE, \"results\")\n",
    "if not os.path.exists(result_path):\n",
    "    os.makedirs(result_path)"
   ]
  },
  {
   "cell_type": "code",
   "execution_count": 4,
   "metadata": {},
   "outputs": [],
   "source": [
    "def chat_completions3(query):\n",
    "    client = OpenAI(api_key=API_SECRET_KEY, base_url=BASE_URL)\n",
    "    resp = client.chat.completions.create(\n",
    "        model=\"gpt-4o\",\n",
    "        messages=[\n",
    "            {\"role\": \"system\", \"content\": system_message},\n",
    "            {\"role\": \"user\", \"content\": example_000_caps},\n",
    "            {\"role\": \"assistant\", \"content\": example_000_conv},\n",
    "            {\"role\": \"user\", \"content\": example_001_caps},\n",
    "            {\"role\": \"assistant\", \"content\": example_001_conv},\n",
    "            {\"role\": \"user\", \"content\": query},\n",
    "        ],\n",
    "        temperature=0.3,\n",
    "    )\n",
    "    return resp.choices[0].message.content"
   ]
  },
  {
   "cell_type": "code",
   "execution_count": 5,
   "metadata": {},
   "outputs": [],
   "source": [
    "with open('LEVIR-MCI-dataset/LevirCCcaptions-v2-f.json', 'r') as f:\n",
    "    datajson = json.load(f)\n",
    "\n",
    "datajson = [x for x in datajson if x['filepath'] == 'train']"
   ]
  },
  {
   "cell_type": "code",
   "execution_count": 8,
   "metadata": {},
   "outputs": [],
   "source": [
    "def get_result_conv(row):\n",
    "    file_path = os.path.join(result_path, row['filename'].replace('.png','.txt'))\n",
    "    if os.path.exists(file_path):\n",
    "        return\n",
    "    query = '\\n'.join(['- ' + x.replace(' .', '.').strip() for x in row['sentences']])\n",
    "    ans = chat_completions3(query)\n",
    "    write_to_file(file_path, ans)\n",
    "\n",
    "def get_result_count(row):\n",
    "    query = \"Change captions:\\n\"\n",
    "    file_path = os.path.join(result_path, row['filename'].replace('.png','.txt'))\n",
    "    if os.path.exists(file_path):\n",
    "        return\n",
    "    if row['changeflag']==0:\n",
    "        ans = '''Question: How many roads and buildings have changed between the two images?\n",
    "Answer: There are no changes in roads or buildings between the two images.'''\n",
    "        write_to_file(file_path, ans)\n",
    "    else:\n",
    "        query += '\\n'.join(['- ' + x.replace(' .', '.').strip() for x in row['sentences']])\n",
    "        query += \"\\n\\n\"\n",
    "        query += \"Change counts:\\n\"\n",
    "        query += json.dumps(row['change_counts'])\n",
    "        query += \"\\n\\n\"\n",
    "        query += \"Change contours:\\n\"\n",
    "        query += json.dumps(row['contours'])\n",
    "        ans = chat_completions3(query)\n",
    "        write_to_file(file_path, ans)"
   ]
  },
  {
   "cell_type": "code",
   "execution_count": 9,
   "metadata": {},
   "outputs": [],
   "source": [
    "with concurrent.futures.ThreadPoolExecutor() as executor:\n",
    "    # 并行执行，提高效率\n",
    "    executor.map(lambda x: get_result_count(x), datajson)"
   ]
  }
 ],
 "metadata": {
  "kernelspec": {
   "display_name": "Python 3",
   "language": "python",
   "name": "python3"
  },
  "language_info": {
   "codemirror_mode": {
    "name": "ipython",
    "version": 3
   },
   "file_extension": ".py",
   "mimetype": "text/x-python",
   "name": "python",
   "nbconvert_exporter": "python",
   "pygments_lexer": "ipython3",
   "version": "3.10.11"
  }
 },
 "nbformat": 4,
 "nbformat_minor": 2
}
