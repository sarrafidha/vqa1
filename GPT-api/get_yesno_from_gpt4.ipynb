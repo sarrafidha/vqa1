{
 "cells": [
  {
   "cell_type": "markdown",
   "metadata": {},
   "source": [
    "# 调用GPT4接口获取是否变化"
   ]
  },
  {
   "cell_type": "code",
   "execution_count": 16,
   "metadata": {},
   "outputs": [],
   "source": [
    "import os, json, re, ast, base64\n",
    "from openai import OpenAI\n",
    "import concurrent.futures\n",
    "import threading\n",
    "from time import sleep\n",
    "# set the key\n",
    "API_SECRET_KEY = \"sk-zk22a10f1cb3d0807213c0138b58cc03ec666d7cb5d4c397\"\n",
    "BASE_URL = \"https://flag.smarttrot.com/v1/\""
   ]
  },
  {
   "cell_type": "code",
   "execution_count": 17,
   "metadata": {},
   "outputs": [],
   "source": [
    "def read_file(file_path):\n",
    "    with open(file_path, 'r') as file:\n",
    "        content = file.read()\n",
    "    return content\n",
    "\n",
    "def write_to_file(file_path, content):\n",
    "    with open(file_path, \"w\") as f:\n",
    "        f.write(content)\n",
    "        \n",
    "def encode_image(image_path):\n",
    "    with open(image_path, \"rb\") as image_file:\n",
    "        return base64.b64encode(image_file.read()).decode(\"utf-8\")\n",
    "    \n",
    "result_path = os.path.join(\"gpt4-binary-results\")\n",
    "if not os.path.exists(result_path):\n",
    "    os.makedirs(result_path)"
   ]
  },
  {
   "cell_type": "code",
   "execution_count": 18,
   "metadata": {},
   "outputs": [],
   "source": [
    "with open('LEVIR-MCI-dataset/LevirCCcaptions-v2-f.json', 'r') as f:\n",
    "    datajson = json.load(f)\n",
    "\n",
    "datajson = [x for x in datajson if x['filepath'] == 'test']"
   ]
  },
  {
   "cell_type": "code",
   "execution_count": 19,
   "metadata": {},
   "outputs": [],
   "source": [
    "def chat_completions3(row):\n",
    "    client = OpenAI(api_key=API_SECRET_KEY, base_url=BASE_URL)    \n",
    "    prompt = (\n",
    "        \"Please determine whether the buildings and roads in these two remote sensing images have been newly built or removed. Only return yes or no, and do not return other content.\"\n",
    "    )\n",
    "\n",
    "    images = [f\"LEVIR-MCI-dataset/images/test/A/{row['filename']}\", f\"LEVIR-MCI-dataset/images/test/B/{row['filename']}\"]\n",
    "    base64_images = [encode_image(image) for image in images]\n",
    "\n",
    "    user_content = [{\"type\": \"text\", \"text\": prompt}]\n",
    "    base64_images_content = [\n",
    "        {\n",
    "            \"type\": \"image_url\",\n",
    "            \"image_url\": {\n",
    "                \"url\": f\"data:image/jpeg;base64,{base64_image}\",\n",
    "                \"detail\": \"high\",\n",
    "            },\n",
    "        }\n",
    "        for base64_image in base64_images\n",
    "    ]\n",
    "    user_content.extend(base64_images_content)\n",
    "    messages_template = [{\"role\": \"user\", \"content\": user_content}]\n",
    "\n",
    "    # 构造请求并调用 API\n",
    "    response = client.chat.completions.create(\n",
    "        model=\"gpt-4o\",\n",
    "        messages=messages_template,\n",
    "        max_tokens=1600,\n",
    "        temperature=0,\n",
    "        n=1,\n",
    "        seed=2024,\n",
    "    )\n",
    "\n",
    "    # 打印生成结果\n",
    "    result = response.choices[0].message.content\n",
    "    return result\n",
    "\n",
    "def get_result_binary(row):\n",
    "    file_path = os.path.join(result_path, row['filename'].replace('.png','.txt'))\n",
    "    if os.path.exists(file_path):\n",
    "        return\n",
    "    ans = chat_completions3(row)\n",
    "    write_to_file(file_path, ans)"
   ]
  },
  {
   "cell_type": "code",
   "execution_count": 21,
   "metadata": {},
   "outputs": [],
   "source": [
    "with concurrent.futures.ThreadPoolExecutor() as executor:\n",
    "    # 并行执行，提高效率\n",
    "    executor.map(lambda x: get_result_binary(x), datajson)"
   ]
  },
  {
   "cell_type": "markdown",
   "metadata": {},
   "source": [
    "## combine results"
   ]
  },
  {
   "cell_type": "code",
   "execution_count": 25,
   "metadata": {},
   "outputs": [],
   "source": [
    "global_id = 100001\n",
    "rslt = []\n",
    "def get_ans(filename):\n",
    "    with open(os.path.join(\"gpt4-binary-results\", filename.replace(\".png\", \".txt\")), \"r\") as f:\n",
    "        return f.read()\n",
    "\n",
    "for row in datajson:\n",
    "    rslt.append({\n",
    "        \"question_id\": global_id,\n",
    "        \"image_id\": [f\"test/A/{row['filename']}\", f\"test/B/{row['filename']}\"],\n",
    "        \"answer\": get_ans(row['filename'])\n",
    "    })\n",
    "    global_id += 1\n",
    "with open('gpt4-binary-results.jsonl', 'w') as file:\n",
    "    for item in rslt:\n",
    "        file.write(json.dumps(item) + '\\n')"
   ]
  }
 ],
 "metadata": {
  "kernelspec": {
   "display_name": "Python 3",
   "language": "python",
   "name": "python3"
  },
  "language_info": {
   "codemirror_mode": {
    "name": "ipython",
    "version": 3
   },
   "file_extension": ".py",
   "mimetype": "text/x-python",
   "name": "python",
   "nbconvert_exporter": "python",
   "pygments_lexer": "ipython3",
   "version": "3.10.11"
  }
 },
 "nbformat": 4,
 "nbformat_minor": 2
}
