{
 "cells": [
  {
   "cell_type": "code",
   "execution_count": 1,
   "metadata": {},
   "outputs": [],
   "source": [
    "import json\n",
    "from PIL import Image\n",
    "import os\n",
    "import numpy as np\n",
    "import cv2\n",
    "import tqdm\n",
    "\n",
    "\n",
    "IMAGE_PATH = os.path.expanduser(\"LEVIR-MCI-dataset/images\")\n",
    "RAW_JSON_PATH = os.path.expanduser(\"LEVIR-MCI-dataset/LevirCCcaptions.json\")\n",
    "\n",
    "with open(RAW_JSON_PATH, \"r\") as f: \n",
    "    raw_json = json.load(f)\n",
    "raw_captions = raw_json['images']\n",
    "# raw_captions = [x for x in raw_captions if x['filename'] == 'test_001000.png']"
   ]
  },
  {
   "cell_type": "code",
   "execution_count": 151,
   "metadata": {},
   "outputs": [],
   "source": [
    "def getChageMask(filepath, filename):\n",
    "    changeMask = Image.open(os.path.join(IMAGE_PATH, filepath, \"label\", filename))\n",
    "    changeMask = np.array(changeMask)\n",
    "    return changeMask\n",
    "\n",
    "def analyze_segmentation_mask(mask):\n",
    "    # 目标颜色定义\n",
    "    ROAD = [128, 128, 128]\n",
    "    BUILDING = [255, 255, 255]\n",
    "    BACKGROUND = [0, 0, 0]\n",
    "\n",
    "    # 1) 判断掩码图中是否有目标\n",
    "    unique_colors = np.unique(mask.reshape(-1, mask.shape[2]), axis=0)\n",
    "    has_target = any((color != BACKGROUND).all() for color in unique_colors)\n",
    "\n",
    "    # 2) 计算每个类别的目标数量\n",
    "    def count_objects(color):\n",
    "        binary_mask = cv2.inRange(mask, np.array(color), np.array(color))\n",
    "        contours, _ = cv2.findContours(binary_mask, cv2.RETR_EXTERNAL, cv2.CHAIN_APPROX_SIMPLE)\n",
    "        return len(contours), contours\n",
    "\n",
    "    road_count, road_contours = count_objects(ROAD)\n",
    "    building_count, building_contours = count_objects(BUILDING)\n",
    "\n",
    "    target_counts = {\n",
    "        \"road\": road_count,\n",
    "        \"building\": building_count\n",
    "    }\n",
    "\n",
    "    # 3) 生成每个目标的边界轮廓坐标，使用cv2.approxPolyDP减少顶点数量\n",
    "    def simplify_contours(contours, epsilon=2, min_vertices=2, max_vertices=8):\n",
    "        simplified_contours = []\n",
    "        for contour in contours:\n",
    "            # contour = cv2.convexHull(contour)\n",
    "            # 动态调整epsilon值，直到顶点数在指定范围内\n",
    "            epsilon_value = epsilon * cv2.arcLength(contour, True) / 100\n",
    "            approx = cv2.approxPolyDP(contour, epsilon_value, True)\n",
    "            \n",
    "            # 增加epsilon值以减少顶点数，不超过最大顶点数\n",
    "            while len(approx) > max_vertices and epsilon_value < cv2.arcLength(contour, True):\n",
    "                epsilon_value += 0.1\n",
    "                approx = cv2.approxPolyDP(contour, epsilon_value, True)\n",
    "            \n",
    "            simplified_contours.append(approx)\n",
    "        return simplified_contours\n",
    "\n",
    "\n",
    "    road_contours_simplified = simplify_contours(road_contours)\n",
    "    building_contours_simplified = simplify_contours(building_contours)\n",
    "\n",
    "    contours = {\n",
    "        \"road\": [contour.reshape(-1,2).tolist() for contour in road_contours_simplified],\n",
    "        \"building\": [contour.reshape(-1,2).tolist() for contour in building_contours_simplified]\n",
    "    }\n",
    "\n",
    "    return has_target, target_counts, contours, road_contours_simplified, building_contours_simplified"
   ]
  },
  {
   "cell_type": "code",
   "execution_count": 135,
   "metadata": {},
   "outputs": [
    {
     "name": "stderr",
     "output_type": "stream",
     "text": [
      "100%|██████████| 10077/10077 [09:32<00:00, 17.60it/s]\n"
     ]
    }
   ],
   "source": [
    "rslt_v2 = []\n",
    "maybeError = []\n",
    "for row in tqdm.tqdm(raw_captions):\n",
    "    mask = getChageMask(row['filepath'], row['filename'])\n",
    "    has_target, target_counts, contours, road_contours, building_contours = analyze_segmentation_mask(mask)\n",
    "    _newRow = {\n",
    "        \"filepath\": row['filepath'],\n",
    "        \"filename\": row['filename'],\n",
    "        \"imageid\": row['imgid'],\n",
    "        \"sentences\": [x['raw'] for x in row[\"sentences\"]],\n",
    "        \"changeflag\": row[\"changeflag\"],\n",
    "        \"changeflag2\": int(has_target),\n",
    "        \"change_counts\": target_counts,\n",
    "        \"contours\": contours\n",
    "        }\n",
    "    # if has_target and contours['road']:\n",
    "    #     assert(np.array(np.expand_dims(contours['road'][0], 1)) == road_contours[0]).all()\n",
    "    rslt_v2.append(_newRow)\n",
    "\n",
    "with open(os.path.expanduser(\"LEVIR-MCI-dataset/LevirCCcaptions-v3.json\"), 'w') as f:\n",
    "    json.dump(rslt_v2, f)"
   ]
  },
  {
   "cell_type": "code",
   "execution_count": 3,
   "metadata": {},
   "outputs": [],
   "source": [
    "with open(os.path.expanduser(\"LEVIR-MCI-dataset/LevirCCcaptions-v2.json\"), 'r') as f:\n",
    "    rslt_v2 = json.load(f)\n",
    "\n",
    "def process_numbers(obj):\n",
    "    if isinstance(obj, list):\n",
    "        return [process_numbers(item) for item in obj]\n",
    "    elif isinstance(obj, dict):\n",
    "        return {key: process_numbers(value) for key, value in obj.items()}\n",
    "    elif isinstance(obj, int):\n",
    "        return round(obj / 256, 2)  # 将数字除以 256 并保留两位小数\n",
    "    else:\n",
    "        return obj"
   ]
  },
  {
   "cell_type": "code",
   "execution_count": 5,
   "metadata": {},
   "outputs": [],
   "source": [
    "for row in rslt_v2:\n",
    "    row['contours'] = process_numbers(row['contours'])"
   ]
  },
  {
   "cell_type": "code",
   "execution_count": 9,
   "metadata": {},
   "outputs": [],
   "source": [
    "with open(os.path.expanduser(\"LEVIR-MCI-dataset/LevirCCcaptions-v2-f.json\"), 'w') as f:\n",
    "    json.dump(rslt_v2, f)"
   ]
  },
  {
   "cell_type": "code",
   "execution_count": 171,
   "metadata": {},
   "outputs": [],
   "source": [
    "from matplotlib import pyplot as plt\n",
    "\n",
    "def draw_contours_on_image(image_path, road_contours, building_contours):\n",
    "    # 读取原图像\n",
    "    image = cv2.imread(image_path)\n",
    "    cv2.cvtColor(image, cv2.COLOR_BGR2RGB, image)\n",
    "\n",
    "    # 颜色定义\n",
    "    road_color = (0, 255, 0) # 绿色\n",
    "    building_color = (0, 0, 255) # 蓝色\n",
    "\n",
    "    road_contours = [np.array(x) for x in road_contours]\n",
    "    building_contours = [np.array(x) for x in building_contours]\n",
    "\n",
    "    # 在图像上绘制道路轮廓\n",
    "    cv2.drawContours(image, road_contours, -1, road_color, 2)\n",
    "    # 在图像上绘制建筑物轮廓\n",
    "    cv2.drawContours(image, building_contours, -1, building_color, 2)\n",
    "\n",
    "    return image\n",
    "\n",
    "for row in rslt_v3:\n",
    "    label_path = f\"LEVIR-MCI-dataset/images/{row['filepath']}/label/{row['filename']}\"\n",
    "    rslt_path = f\"LEVIR-MCI-dataset/images/{row['filepath']}/contour/{row['filename']}\"\n",
    "    if not os.path.exists(os.path.dirname(rslt_path)):\n",
    "        os.makedirs(os.path.dirname(rslt_path))\n",
    "    road_contours = row['contours']['road']\n",
    "    building_contours = row['contours']['building']\n",
    "    annotated_image = draw_contours_on_image(label_path, road_contours, building_contours)\n",
    "\n",
    "    cv2.cvtColor(annotated_image, cv2.COLOR_RGB2BGR, annotated_image)\n",
    "    cv2.imwrite(rslt_path, annotated_image)\n"
   ]
  }
 ],
 "metadata": {
  "kernelspec": {
   "display_name": "Python 3",
   "language": "python",
   "name": "python3"
  },
  "language_info": {
   "codemirror_mode": {
    "name": "ipython",
    "version": 3
   },
   "file_extension": ".py",
   "mimetype": "text/x-python",
   "name": "python",
   "nbconvert_exporter": "python",
   "pygments_lexer": "ipython3",
   "version": "3.10.11"
  }
 },
 "nbformat": 4,
 "nbformat_minor": 2
}
